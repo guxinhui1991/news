{
 "cells": [
  {
   "cell_type": "code",
   "execution_count": 51,
   "metadata": {
    "collapsed": true
   },
   "outputs": [],
   "source": [
    "import numpy as np\n",
    "import pandas as pd\n",
    "import statsmodels as sm\n",
    "import scipy.stats as stats\n",
    "import os\n",
    "import urllib\n",
    "import csv\n",
    "from bs4 import BeautifulSoup\n",
    "import codecs\n",
    "\n",
    "from matplotlib import pyplot as plt\n",
    "%matplotlib inline"
   ]
  },
  {
   "cell_type": "code",
   "execution_count": 2,
   "metadata": {},
   "outputs": [
    {
     "data": {
      "text/html": [
       "<div>\n",
       "<style>\n",
       "    .dataframe thead tr:only-child th {\n",
       "        text-align: right;\n",
       "    }\n",
       "\n",
       "    .dataframe thead th {\n",
       "        text-align: left;\n",
       "    }\n",
       "\n",
       "    .dataframe tbody tr th {\n",
       "        vertical-align: top;\n",
       "    }\n",
       "</style>\n",
       "<table border=\"1\" class=\"dataframe\">\n",
       "  <thead>\n",
       "    <tr style=\"text-align: right;\">\n",
       "      <th></th>\n",
       "      <th>Unnamed: 0</th>\n",
       "      <th>Title</th>\n",
       "    </tr>\n",
       "    <tr>\n",
       "      <th>Date</th>\n",
       "      <th></th>\n",
       "      <th></th>\n",
       "    </tr>\n",
       "  </thead>\n",
       "  <tbody>\n",
       "    <tr>\n",
       "      <th>2017-09-12</th>\n",
       "      <td>1</td>\n",
       "      <td>How Apple's Face ID works     - CNET</td>\n",
       "    </tr>\n",
       "    <tr>\n",
       "      <th>2017-09-12</th>\n",
       "      <td>2</td>\n",
       "      <td>How Microsoft is bringing the Internet of Thin...</td>\n",
       "    </tr>\n",
       "    <tr>\n",
       "      <th>2017-09-12</th>\n",
       "      <td>3</td>\n",
       "      <td>Developers: Watch Microsoft Edge Web Summit 20...</td>\n",
       "    </tr>\n",
       "    <tr>\n",
       "      <th>2017-09-12</th>\n",
       "      <td>4</td>\n",
       "      <td>'Transformers: The Last Knight' now available ...</td>\n",
       "    </tr>\n",
       "    <tr>\n",
       "      <th>2017-09-12</th>\n",
       "      <td>5</td>\n",
       "      <td>HP announces new premium commercial notebooks ...</td>\n",
       "    </tr>\n",
       "  </tbody>\n",
       "</table>\n",
       "</div>"
      ],
      "text/plain": [
       "            Unnamed: 0                                              Title\n",
       "Date                                                                     \n",
       "2017-09-12           1               How Apple's Face ID works     - CNET\n",
       "2017-09-12           2  How Microsoft is bringing the Internet of Thin...\n",
       "2017-09-12           3  Developers: Watch Microsoft Edge Web Summit 20...\n",
       "2017-09-12           4  'Transformers: The Last Knight' now available ...\n",
       "2017-09-12           5  HP announces new premium commercial notebooks ..."
      ]
     },
     "execution_count": 2,
     "metadata": {},
     "output_type": "execute_result"
    }
   ],
   "source": [
    "msft = pd.read_csv('data/MSFT_full.csv', index_col=0)\n",
    "\n",
    "headlines = pd.read_csv(\"data/Headlines.csv\", index_col=2)\n",
    "headlines.index = pd.to_datetime(headlines.index)\n",
    "headlines.head()"
   ]
  },
  {
   "cell_type": "code",
   "execution_count": 3,
   "metadata": {
    "collapsed": true,
    "scrolled": true
   },
   "outputs": [],
   "source": [
    "headlines_byDate = {}\n",
    "NUM_DAYS = len(headlines_byDate)\n",
    "Date_List= headlines.index.unique()\n",
    "\n",
    "for date in headlines.index.unique():\n",
    "    str_date = ''\n",
    "    for i in range(len(headlines[headlines.index==date])):\n",
    "        str_date= str_date+' '+(headlines[headlines.index==date].Title[i]).upper()\n",
    "    headlines_byDate[date] = str_date"
   ]
  },
  {
   "cell_type": "code",
   "execution_count": 4,
   "metadata": {
    "scrolled": true
   },
   "outputs": [
    {
     "data": {
      "text/plain": [
       "Timestamp('2014-03-27 00:00:00')"
      ]
     },
     "execution_count": 4,
     "metadata": {},
     "output_type": "execute_result"
    }
   ],
   "source": [
    "Date_List[-1]"
   ]
  },
  {
   "cell_type": "code",
   "execution_count": 5,
   "metadata": {
    "collapsed": true
   },
   "outputs": [],
   "source": [
    "dict_fin = pd.read_excel('data/LoughranMcDonald_MasterDictionary_2014_lite.xlsx', index_col=0)\n",
    "word_list = np.array(dict_fin.index)\n",
    "features = ['Negative', 'Positive', 'Uncertainty', 'Litigious', 'Constraining', 'Superfluous', 'Interesting', 'Modal']"
   ]
  },
  {
   "cell_type": "code",
   "execution_count": 6,
   "metadata": {},
   "outputs": [
    {
     "name": "stdout",
     "output_type": "stream",
     "text": [
      "--- 215.85921597480774 seconds ---\n"
     ]
    }
   ],
   "source": [
    "import time\n",
    "start_time = time.time()\n",
    "\n",
    "Estimate_date ={}\n",
    "daily_mat = pd.DataFrame(columns=features, index=dict_fin.index)\n",
    "daily_mat[:] = 0.0\n",
    "summy_mat = pd.DataFrame(columns=features, index=Date_List)\n",
    "summy_mat[:] = 0.0\n",
    "\n",
    "for date in Date_List:\n",
    "    daily_mat[:] = 0.0\n",
    "    str_date = headlines_byDate[date]\n",
    "    for word in word_list:\n",
    "        ind = 0\n",
    "        if word in str_date:\n",
    "            for feature in features:\n",
    "                if(dict_fin[dict_fin.index==word][feature].values>0):\n",
    "                    daily_mat.iloc[daily_mat.index==word, daily_mat.columns==feature] = daily_mat.iloc[daily_mat.index==word, daily_mat.columns==feature] + 1\n",
    "    summy_mat.iloc[summy_mat.index==date, :] = np.array(daily_mat.sum(axis=0))\n",
    "\n",
    "print(\"--- %s seconds ---\" % (time.time() - start_time))"
   ]
  },
  {
   "cell_type": "code",
   "execution_count": 7,
   "metadata": {
    "collapsed": true
   },
   "outputs": [],
   "source": [
    "msft = pd.read_csv('Data/MSFT_full.csv', index_col= 0)\n",
    "msft.head()\n",
    "y_data = pd.DataFrame(index= msft.index[:-1], columns=['Returns'])"
   ]
  },
  {
   "cell_type": "code",
   "execution_count": 8,
   "metadata": {
    "collapsed": true
   },
   "outputs": [],
   "source": [
    "msft_returns = (msft['close'][:-1].values - msft['close'][1:].values)/msft['close'][1:].values\n",
    "boundary = 0.3*np.std(msft_returns)\n",
    "msft_returns_ind = msft_returns.copy()\n",
    "for i in range(len(msft_returns)):\n",
    "    if msft_returns[i]>boundary:\n",
    "        msft_returns_ind[i] = 1\n",
    "    elif msft_returns[i]<-boundary:\n",
    "        msft_returns_ind[i] = -1\n",
    "    else:\n",
    "        msft_returns_ind[i] = 0\n",
    "        "
   ]
  },
  {
   "cell_type": "code",
   "execution_count": 9,
   "metadata": {},
   "outputs": [
    {
     "name": "stderr",
     "output_type": "stream",
     "text": [
      "/Users/Xinhui/anaconda/lib/python3.6/site-packages/ipykernel_launcher.py:3: FutureWarning: to_datetime is deprecated. Use pd.to_datetime(...)\n",
      "  This is separate from the ipykernel package so we can avoid doing imports until\n"
     ]
    }
   ],
   "source": [
    "y_data['Returns'] = msft_returns_ind\n",
    "y_data.head()\n",
    "y_data.index = y_data.index.to_datetime()\n",
    "Date_List_Trading = y_data.index \n",
    "x_data = pd.DataFrame(index= Date_List_Trading, columns=summy_mat.columns)"
   ]
  },
  {
   "cell_type": "code",
   "execution_count": 10,
   "metadata": {
    "collapsed": true
   },
   "outputs": [],
   "source": [
    "for date in Date_List_Trading:\n",
    "    x_data[x_data.index==date] = summy_mat[summy_mat.index==date]"
   ]
  },
  {
   "cell_type": "code",
   "execution_count": 11,
   "metadata": {
    "collapsed": true
   },
   "outputs": [],
   "source": [
    "nan_index = (x_data['Positive'][x_data['Positive'].isnull().values]).index\n",
    "x_data = x_data.drop(nan_index)\n",
    "y_data = y_data.drop(nan_index)"
   ]
  },
  {
   "cell_type": "code",
   "execution_count": 13,
   "metadata": {
    "scrolled": true
   },
   "outputs": [
    {
     "name": "stderr",
     "output_type": "stream",
     "text": [
      "/Users/Xinhui/anaconda/lib/python3.6/site-packages/sklearn/utils/validation.py:547: DataConversionWarning: A column-vector y was passed when a 1d array was expected. Please change the shape of y to (n_samples, ), for example using ravel().\n",
      "  y = column_or_1d(y, warn=True)\n"
     ]
    }
   ],
   "source": [
    "from sklearn.svm import SVC\n",
    "\n",
    "NUM_DATAPOINTS = len(x_data)\n",
    "clf = SVC(decision_function_shape='ovo')\n",
    "clf.fit(x_data[int(-0.9*NUM_DATAPOINTS):], y_data[int(-0.9*NUM_DATAPOINTS):]) \n",
    "y_pred = clf.predict(x_data[:int(0.1*NUM_DATAPOINTS)])"
   ]
  },
  {
   "cell_type": "code",
   "execution_count": 48,
   "metadata": {},
   "outputs": [
    {
     "data": {
      "text/plain": [
       "<matplotlib.axes._subplots.AxesSubplot at 0x11e0659b0>"
      ]
     },
     "execution_count": 48,
     "metadata": {},
     "output_type": "execute_result"
    },
    {
     "data": {
      "image/png": "[encoded data removed]",
      "text/plain": [
       "<matplotlib.figure.Figure at 0x11d6ced68>"
      ]
     },
     "metadata": {},
     "output_type": "display_data"
    }
   ],
   "source": [
    "import seaborn\n",
    "plt.figure(figsize = (16,9))\n",
    "hist_= pd.DataFrame(y_data['Returns'][:int(0.1*NUM_DATAPOINTS)]-y_pred)\n",
    "type(hist_)\n",
    "bins = [-2, -1, 0, 1, 2]\n",
    "#hist_ = hist_.groupby(pd.cut(hist_.values, bins=bins)).value_counts()\n",
    "res=hist_['Returns'].value_counts()\n",
    "res=res.sort_index()\n",
    "res.plot(kind='bar', title='Histogram of Values',)"
   ]
  },
  {
   "cell_type": "code",
   "execution_count": 52,
   "metadata": {},
   "outputs": [
    {
     "data": {
      "text/plain": [
       "(array([  8.,  24.,  28.,  16.,   9.]),\n",
       " array([-2. , -1.2, -0.4,  0.4,  1.2,  2. ]),\n",
       " <a list of 5 Patch objects>)"
      ]
     },
     "execution_count": 52,
     "metadata": {},
     "output_type": "execute_result"
    },
    {
     "data": {
      "image/png": "[encoded data removed]",
      "text/plain": [
       "<matplotlib.figure.Figure at 0x11e115518>"
      ]
     },
     "metadata": {},
     "output_type": "display_data"
    }
   ],
   "source": [
    "plt.figure(figsize = (16,9))\n",
    "plt.title('Pred Vs Actual')\n",
    "plt.hist(y_data['Returns'][:int(0.1*NUM_DATAPOINTS)]-y_pred, bins= 5, )"
   ]
  },
  {
   "cell_type": "code",
   "execution_count": 53,
   "metadata": {},
   "outputs": [
    {
     "name": "stdout",
     "output_type": "stream",
     "text": [
      "Success Rate SOA Model:  0.32941176470588235\n"
     ]
    }
   ],
   "source": [
    "diff_soa = y_data['Returns'][:int(0.1*NUM_DATAPOINTS)]-y_pred\n",
    "success_rate = len(diff_soa[diff_soa==0])/len(diff_soa)\n",
    "print('Success Rate SOA Model: ', success_rate)"
   ]
  },
  {
   "cell_type": "markdown",
   "metadata": {},
   "source": [
    "# Benchmark Model"
   ]
  },
  {
   "cell_type": "code",
   "execution_count": 54,
   "metadata": {
    "collapsed": true,
    "scrolled": true
   },
   "outputs": [],
   "source": [
    "headlines_byDate = {}\n",
    "NUM_DAYS = len(headlines_byDate)\n",
    "Date_List= headlines.index.unique()\n",
    "\n",
    "for date in headlines.index.unique():\n",
    "    str_date = ''\n",
    "    for i in range(len(headlines[headlines.index==date])):\n",
    "        str_date= str_date+' '+(headlines[headlines.index==date].Title[i]).upper()\n",
    "    headlines_byDate[date] = str_date"
   ]
  },
  {
   "cell_type": "code",
   "execution_count": 168,
   "metadata": {
    "collapsed": true
   },
   "outputs": [],
   "source": [
    "dict_fin = pd.read_excel('Data/LoughranMcDonald_MasterDictionary_2014_lite.xlsx', index_col=0)\n",
    "word_list = np.array(dict_fin.index)\n",
    "features_naive = ['Negative', 'Positive']"
   ]
  },
  {
   "cell_type": "code",
   "execution_count": 176,
   "metadata": {},
   "outputs": [
    {
     "name": "stdout",
     "output_type": "stream",
     "text": [
      "--- 50.05333089828491 seconds ---\n"
     ]
    }
   ],
   "source": [
    "import time\n",
    "start_time = time.time()\n",
    "\n",
    "Estimate_date ={}\n",
    "daily_mat = pd.DataFrame(columns=features, index=dict_fin.index)\n",
    "daily_mat[:] = 0.0\n",
    "summy_mat = pd.DataFrame(columns=features, index=Date_List)\n",
    "summy_mat[:] = 0.0\n",
    "\n",
    "\n",
    "for date in Date_List:\n",
    "    estimate = 0\n",
    "    daily_mat[:] = 0.0\n",
    "    str_date = headlines_byDate[date]\n",
    "    for word in word_list:\n",
    "        ind = 0\n",
    "        if word in str_date:\n",
    "            if(dict_fin[dict_fin.index==word]['Positive'].values>0):\n",
    "                estimate = estimate + 1\n",
    "            if(dict_fin[dict_fin.index==word]['Negative'].values>0):\n",
    "                estimate = estimate -1\n",
    "            \n",
    "    Estimate_date[date] = estimate\n",
    "    summy_mat.iloc[summy_mat.index==date, :] = np.array(daily_mat.sum(axis=0))\n",
    "\n",
    "pre_data=[]\n",
    "for date in Date_List:\n",
    "    pre_data.append(Estimate_date[date])\n",
    "threshold_pred = 0.3*np.std(pre_data)\n",
    "\n",
    "print(\"--- %s seconds ---\" % (time.time() - start_time))"
   ]
  },
  {
   "cell_type": "markdown",
   "metadata": {},
   "source": [
    "## Benchmark Prediction"
   ]
  },
  {
   "cell_type": "code",
   "execution_count": 178,
   "metadata": {},
   "outputs": [],
   "source": [
    "y_pred = []\n",
    "for date in y_data['Returns'].index:\n",
    "    if(Estimate_date[date]>threshold_pred):\n",
    "        y_pred.append(1)\n",
    "    elif(Estimate_date[date]<-threshold_pred):\n",
    "        y_pred.append(-1)\n",
    "    else:\n",
    "        y_pred.append(0)"
   ]
  },
  {
   "cell_type": "code",
   "execution_count": 160,
   "metadata": {
    "collapsed": true
   },
   "outputs": [],
   "source": [
    "length = 10\n",
    "threshold = 0.013\n",
    "y_data.index = pd.to_datetime(y_data.index)\n",
    "\n",
    "label = np.zeros(len(msft_returns)-length+1)\n",
    "for i in range(len(label)):\n",
    "    if max(np.cumprod(msft_returns[i:i+length])) > 1+threshold:\n",
    "        label[i] = 1\n",
    "    elif min(np.cumprod(msft_returns[i:i+length])) < 1-threshold:\n",
    "        label[i] = -1\n"
   ]
  },
  {
   "cell_type": "code",
   "execution_count": 161,
   "metadata": {
    "collapsed": true
   },
   "outputs": [],
   "source": [
    "result_bm = []\n",
    "delete_date = []\n",
    "for date in y_data.index:\n",
    "    if(len(Date_List[Date_List==date])>0):\n",
    "        result_bm.append(Estimate_date[Date_List[Date_List==date][0]])\n",
    "    else:\n",
    "        delete_date.append(date)\n",
    "    \n",
    "result_bm = np.array(result_bm)\n",
    "boundary = 0.3*np.std(result_bm)\n",
    "result_bm_ind = result_bm.copy()\n",
    "for i in range(len(result_bm)):\n",
    "    if result_bm[i]>boundary:\n",
    "        result_bm_ind[i] = 1\n",
    "    elif result_naive[i]<-boundary:\n",
    "        result_bm_ind[i] = -1\n",
    "    else:\n",
    "        result_bm_ind[i] = 0\n"
   ]
  },
  {
   "cell_type": "code",
   "execution_count": 162,
   "metadata": {
    "collapsed": true
   },
   "outputs": [],
   "source": [
    "y_data = y_data.drop(delete_date)\n"
   ]
  },
  {
   "cell_type": "code",
   "execution_count": 179,
   "metadata": {},
   "outputs": [
    {
     "data": {
      "text/plain": [
       "<matplotlib.axes._subplots.AxesSubplot at 0x11cdab160>"
      ]
     },
     "execution_count": 179,
     "metadata": {},
     "output_type": "execute_result"
    },
    {
     "data": {
      "image/png": "[encoded data removed]",
      "text/plain": [
       "<matplotlib.figure.Figure at 0x11ce23d68>"
      ]
     },
     "metadata": {},
     "output_type": "display_data"
    }
   ],
   "source": [
    "import seaborn\n",
    "plt.figure(figsize = (16,9))\n",
    "hist_= pd.DataFrame(y_pred-y_data['Returns'].values)\n",
    "type(hist_)\n",
    "bins = [-2, -1, 0, 1, 2]\n",
    "#hist_ = hist_.groupby(pd.cut(hist_.values, bins=bins)).value_counts()\n",
    "res=hist_[0].value_counts()\n",
    "res=res.sort_index()\n",
    "res.plot(kind='bar', title='Histogram of Values Benchmark Model',)"
   ]
  },
  {
   "cell_type": "code",
   "execution_count": null,
   "metadata": {
    "collapsed": true
   },
   "outputs": [],
   "source": []
  },
  {
   "cell_type": "code",
   "execution_count": null,
   "metadata": {
    "collapsed": true
   },
   "outputs": [],
   "source": []
  },
  {
   "cell_type": "code",
   "execution_count": 164,
   "metadata": {
    "collapsed": true
   },
   "outputs": [],
   "source": [
    "diff_naive = result_bm_ind-y_data['Returns'].values\n",
    "success_rate_naive = len(diff_naive[diff_naive==0])/len(diff_naive)"
   ]
  },
  {
   "cell_type": "code",
   "execution_count": 165,
   "metadata": {
    "scrolled": true
   },
   "outputs": [
    {
     "name": "stdout",
     "output_type": "stream",
     "text": [
      "Success Rate Naive Model:  0.2862190812720848\n"
     ]
    }
   ],
   "source": [
    "print('Success Rate Naive Model: ', success_rate_naive)"
   ]
  },
  {
   "cell_type": "code",
   "execution_count": null,
   "metadata": {
    "collapsed": true
   },
   "outputs": [],
   "source": []
  }
 ],
 "metadata": {
  "kernelspec": {
   "display_name": "Python 3",
   "language": "python",
   "name": "python3"
  },
  "language_info": {
   "codemirror_mode": {
    "name": "ipython",
    "version": 3
   },
   "file_extension": ".py",
   "mimetype": "text/x-python",
   "name": "python",
   "nbconvert_exporter": "python",
   "pygments_lexer": "ipython3",
   "version": "3.6.1"
  }
 },
 "nbformat": 4,
 "nbformat_minor": 2
}
