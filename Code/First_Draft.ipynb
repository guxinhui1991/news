{
 "cells": [
  {
   "cell_type": "code",
   "execution_count": 9,
   "metadata": {
    "collapsed": true
   },
   "outputs": [],
   "source": [
    "import numpy as np\n",
    "import pandas as pd\n",
    "import statsmodels as sm\n",
    "import scipy.stats as stats\n",
    "import os\n",
    "import urllib\n",
    "import csv\n",
    "from bs4 import BeautifulSoup\n",
    "import codecs\n",
    "\n",
    "from matplotlib import pyplot as plt\n",
    "%matplotlib inline"
   ]
  },
  {
   "cell_type": "code",
   "execution_count": 10,
   "metadata": {},
   "outputs": [
    {
     "data": {
      "text/html": [
       "<div>\n",
       "<style>\n",
       "    .dataframe thead tr:only-child th {\n",
       "        text-align: right;\n",
       "    }\n",
       "\n",
       "    .dataframe thead th {\n",
       "        text-align: left;\n",
       "    }\n",
       "\n",
       "    .dataframe tbody tr th {\n",
       "        vertical-align: top;\n",
       "    }\n",
       "</style>\n",
       "<table border=\"1\" class=\"dataframe\">\n",
       "  <thead>\n",
       "    <tr style=\"text-align: right;\">\n",
       "      <th></th>\n",
       "      <th>Unnamed: 0</th>\n",
       "      <th>Title</th>\n",
       "    </tr>\n",
       "    <tr>\n",
       "      <th>Date</th>\n",
       "      <th></th>\n",
       "      <th></th>\n",
       "    </tr>\n",
       "  </thead>\n",
       "  <tbody>\n",
       "    <tr>\n",
       "      <th>2017-09-12</th>\n",
       "      <td>1</td>\n",
       "      <td>How Apple's Face ID works     - CNET</td>\n",
       "    </tr>\n",
       "    <tr>\n",
       "      <th>2017-09-12</th>\n",
       "      <td>2</td>\n",
       "      <td>How Microsoft is bringing the Internet of Thin...</td>\n",
       "    </tr>\n",
       "    <tr>\n",
       "      <th>2017-09-12</th>\n",
       "      <td>3</td>\n",
       "      <td>Developers: Watch Microsoft Edge Web Summit 20...</td>\n",
       "    </tr>\n",
       "    <tr>\n",
       "      <th>2017-09-12</th>\n",
       "      <td>4</td>\n",
       "      <td>'Transformers: The Last Knight' now available ...</td>\n",
       "    </tr>\n",
       "    <tr>\n",
       "      <th>2017-09-12</th>\n",
       "      <td>5</td>\n",
       "      <td>HP announces new premium commercial notebooks ...</td>\n",
       "    </tr>\n",
       "  </tbody>\n",
       "</table>\n",
       "</div>"
      ],
      "text/plain": [
       "            Unnamed: 0                                              Title\n",
       "Date                                                                     \n",
       "2017-09-12           1               How Apple's Face ID works     - CNET\n",
       "2017-09-12           2  How Microsoft is bringing the Internet of Thin...\n",
       "2017-09-12           3  Developers: Watch Microsoft Edge Web Summit 20...\n",
       "2017-09-12           4  'Transformers: The Last Knight' now available ...\n",
       "2017-09-12           5  HP announces new premium commercial notebooks ..."
      ]
     },
     "execution_count": 10,
     "metadata": {},
     "output_type": "execute_result"
    }
   ],
   "source": [
    "msft = pd.read_csv('data/MSFT.csv', index_col=0)\n",
    "\n",
    "headlines = pd.read_csv(\"data/Headlines.csv\", index_col=2)\n",
    "headlines.index = pd.to_datetime(headlines.index)\n",
    "headlines.head()"
   ]
  },
  {
   "cell_type": "code",
   "execution_count": 11,
   "metadata": {
    "scrolled": true
   },
   "outputs": [],
   "source": [
    "headlines_byDate = {}\n",
    "NUM_DAYS = len(headlines_byDate)\n",
    "Date_List= headlines.index.unique()\n",
    "\n",
    "for date in headlines.index.unique():\n",
    "    str_date = ''\n",
    "    for i in range(len(headlines[headlines.index==date])):\n",
    "        str_date= str_date+' '+(headlines[headlines.index==date].Title[i]).upper()\n",
    "    headlines_byDate[date] = str_date"
   ]
  },
  {
   "cell_type": "code",
   "execution_count": 17,
   "metadata": {
    "collapsed": true
   },
   "outputs": [],
   "source": [
    "dict_fin = pd.read_excel('Dictionary/LoughranMcDonald_MasterDictionary_2014_lite.xlsx', index_col=0)\n",
    "word_list = np.array(dict_fin.index)\n"
   ]
  },
  {
   "cell_type": "code",
   "execution_count": 18,
   "metadata": {},
   "outputs": [
    {
     "name": "stdout",
     "output_type": "stream",
     "text": [
      "--- 70.71663999557495 seconds ---\n"
     ]
    }
   ],
   "source": [
    "import time\n",
    "start_time = time.time()\n",
    "\n",
    "Estimate_date ={}\n",
    "for date in Date_List[0:10]:\n",
    "    estimate = 0\n",
    "\n",
    "    for word in word_list:\n",
    "        ind = 0\n",
    "        if(dict_fin[dict_fin.index==word]['Positive'].values>0):\n",
    "            ind=1\n",
    "        if(dict_fin[dict_fin.index==word]['Negative'].values>0):\n",
    "            ind=-1\n",
    "            \n",
    "        estimate= estimate+headlines_byDate[date].count(word)*ind\n",
    "    Estimate_date[date] = estimate\n",
    "\n",
    "print(\"--- %s seconds ---\" % (time.time() - start_time))            "
   ]
  },
  {
   "cell_type": "code",
   "execution_count": null,
   "metadata": {
    "collapsed": true
   },
   "outputs": [],
   "source": []
  }
 ],
 "metadata": {
  "kernelspec": {
   "display_name": "Python 3",
   "language": "python",
   "name": "python3"
  },
  "language_info": {
   "codemirror_mode": {
    "name": "ipython",
    "version": 3
   },
   "file_extension": ".py",
   "mimetype": "text/x-python",
   "name": "python",
   "nbconvert_exporter": "python",
   "pygments_lexer": "ipython3",
   "version": "3.6.1"
  }
 },
 "nbformat": 4,
 "nbformat_minor": 2
}
