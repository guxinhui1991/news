{
 "cells": [
  {
   "cell_type": "code",
   "execution_count": 1,
   "metadata": {
    "collapsed": true
   },
   "outputs": [],
   "source": [
    "import numpy as np\n",
    "import pandas as pd\n",
    "import statsmodels as sm\n",
    "import scipy.stats as stats\n",
    "import os\n",
    "import urllib\n",
    "import csv\n",
    "from bs4 import BeautifulSoup\n",
    "import codecs\n",
    "\n",
    "from matplotlib import pyplot as plt\n",
    "%matplotlib inline"
   ]
  },
  {
   "cell_type": "code",
   "execution_count": 10,
   "metadata": {
    "collapsed": true
   },
   "outputs": [],
   "source": [
    "def historical_data_parser(ticker, url, path):\n",
    "    \n",
    "    r = urllib.request.urlopen(url).read()\n",
    "    soup = BeautifulSoup(r, 'html5lib')\n",
    "    table = soup.find(\"table\", class_=\"main\")\n",
    "\n",
    "    header = table.find('thead')\n",
    "    rows_head = header.find_all('tr')\n",
    "    body = table.find('tbody')\n",
    "    rows_body = body.find_all('tr')\n",
    "\n",
    "    with open(path, 'wt') as file:\n",
    "        writer = csv.writer(file, delimiter=',')\n",
    "        for row in rows_head:\n",
    "            headers_tag = row.find_all(\"th\")\n",
    "            line = [h.get_text().strip().replace(\",\", \"\") for h in headers_tag]\n",
    "            # print (line)\n",
    "            writer.writerow(line)\n",
    "        for row in rows_body:\n",
    "            date_tag = row.find_all(\"td\", class_=\"Py(10px) Ta(start)\")\n",
    "            if date_tag:\n",
    "                values_tag = row.find_all(\"td\", class_=\"Py(10px)\")\n",
    "                line = [v.get_text().strip().replace(\",\", \"\") for v in values_tag]\n",
    "            # print (line)\n",
    "            writer.writerow(line)\n",
    "    \n",
    "    return None"
   ]
  },
  {
   "cell_type": "code",
   "execution_count": 11,
   "metadata": {},
   "outputs": [],
   "source": [
    "import os\n",
    "path = os.getcwd()"
   ]
  },
  {
   "cell_type": "code",
   "execution_count": 15,
   "metadata": {},
   "outputs": [],
   "source": [
    "r = urllib.request.urlopen(url).read()\n",
    "soup = BeautifulSoup(r, 'html5lib')\n"
   ]
  },
  {
   "cell_type": "code",
   "execution_count": 17,
   "metadata": {},
   "outputs": [
    {
     "name": "stdout",
     "output_type": "stream",
     "text": [
      "<html><head></head><body>{\"status\":\"ok\",\"source\":\"the-next-web\",\"sortBy\":\"latest\",\"articles\":[{\"author\":\"George Beall\",\"title\":\"How to avoid making bad hires\",\"description\":\"Are you in the process of hiring one or more employees for your company? Are you wondering which steps you can take to avoid making a bad hire? Are you concerned that you’ll go down ...\",\"url\":\"https://thenextweb.com/contributors/2017/09/12/avoid-making-bad-hires/\",\"urlToImage\":\"https://cdn0.tnwcdn.com/wp-content/blogs.dir/1/files/2017/09/hiring-2575036_1280-social.jpg\",\"publishedAt\":\"2017-09-12T04:59:08Z\"},{\"author\":\"Rachel Kaser\",\"title\":\"Officials turn to social media in the face of Hurricane Irma\",\"description\":\"With two massive hurricanes having devastated the southeastern border of the United States and the Caribbean, overnment officials and crisis responders have accepted social media as ...\",\"url\":\"https://thenextweb.com/socialmedia/2017/09/12/officials-turn-to-social-media-in-the-face-of-hurricane-irma/\",\"urlToImage\":\"https://cdn0.tnwcdn.com/wp-content/blogs.dir/1/files/2017/09/Hurricane-Irma-social.jpg\",\"publishedAt\":\"2017-09-12T01:03:08Z\"},{\"author\":\"Tristan Greene\",\"title\":\"Waymo created its own driver’s ed course for AI\",\"description\":\"Waymo, a driverless car company owned by Google parent company, Alphabet, has a fleet of driverless vehicles that have logged the company millions of kilometers driven on real city ...\",\"url\":\"https://thenextweb.com/artificial-intelligence/2017/09/11/waymo-created-drivers-ed-course-ai/\",\"urlToImage\":\"https://cdn0.tnwcdn.com/wp-content/blogs.dir/1/files/2017/09/waymo-social.gif\",\"publishedAt\":\"2017-09-11T22:52:09Z\"},{\"author\":\"Napier Lopez\",\"title\":\"Apple doesn’t think the iPhone X needs any more RAM (and it’s probably right)\",\"description\":\"While the imminent iPhone X is sure to be Apple's most powerful smartphone yet, apparently the company doesn't think it needs any more RAM.\\r\\n\\r\\nThe latest batch of iOS 11 leaks - courtesy ...\",\"url\":\"https://thenextweb.com/apple/2017/09/11/apple-doesnt-think-iphone-x-needs-ram-probably-right/\",\"urlToImage\":\"https://cdn0.tnwcdn.com/wp-content/blogs.dir/1/files/2017/09/iPhone-X-Fixed-social.jpg\",\"publishedAt\":\"2017-09-11T22:45:38Z\"},{\"author\":\"Napier Lopez\",\"title\":\"Report: Amazon’s next Fire TV will double as an Echo\",\"description\":\"Amazon's next flagship Fire TV will come with advanced voice assistant capabilities, according to a report by AFTVNews. If the leak holds up, Amazon is basically combining the Fire ...\",\"url\":\"https://thenextweb.com/gadgets/2017/09/11/report-amazons-next-fire-tv-will-double-echo/\",\"urlToImage\":\"https://cdn0.tnwcdn.com/wp-content/blogs.dir/1/files/2017/09/2017-Fire-TV-Models-Leaked-by-AFTVnews.com_.jpg\",\"publishedAt\":\"2017-09-11T20:29:38Z\"},{\"author\":\"George Beall\",\"title\":\"The surprising retail habits of millennial shoppers\",\"description\":\"Millennials are changing the retail landscape in some pretty unexpected ways. This largest generation in United States history is pretty broke - they’ve grown up in the great recession, ...\",\"url\":\"https://thenextweb.com/contributors/2017/09/11/surprising-retail-habits-millennial-shoppers/\",\"urlToImage\":\"https://cdn0.tnwcdn.com/wp-content/blogs.dir/1/files/2017/09/millennial-shopping-habits-snip-social.png\",\"publishedAt\":\"2017-09-11T20:26:17Z\"},{\"author\":\"Rachel Kaser\",\"title\":\"Copyright takedowns are the wrong way to fight PewDiePie\",\"description\":\"YouTube personality Felix \\\"Pewdiepie\\\" Kjellberg is back in the news for using bad words, and a game developer is taking him to task via YouTube's DMCA takedown system.\\r\\n\\r\\nhttps://twitter.com/vanaman/status/906983575337107456\\r\\n\\r\\nOver ...\",\"url\":\"https://thenextweb.com/gaming/2017/09/11/copyright-takedowns-are-the-wrong-way-to-fight-pewdiepie/\",\"urlToImage\":\"https://cdn0.tnwcdn.com/wp-content/blogs.dir/1/files/2016/01/PewDiePie-social.jpg\",\"publishedAt\":\"2017-09-11T19:52:10Z\"},{\"author\":\"Tristan Greene\",\"title\":\"Mind-reading AI is the newest defense against cyber attacks\",\"description\":\"Ransomware has been disastrous for businesses and individuals alike, with recent attacks like WannaCry costing companies millions, and personal attacks threatening private data. We're ...\",\"url\":\"https://thenextweb.com/artificial-intelligence/2017/09/11/mind-reading-ai-is-the-newest-defense-against-cyber-attacks/\",\"urlToImage\":\"https://cdn0.tnwcdn.com/wp-content/blogs.dir/1/files/2017/09/empow-social.jpg\",\"publishedAt\":\"2017-09-11T19:30:15Z\"},{\"author\":\"Alice Bonasio\",\"title\":\"Will live events make VR stick with consumers?\",\"description\":\"If Virtual Reality is all about creating a sense of presence, content that lets you create and share live moments could be its killer app\\r\\n\\r\\n\\r\\n\\r\\nGetting people to try out a VR experience ...\",\"url\":\"https://thenextweb.com/contributors/2017/09/11/will-live-events-make-vr-stick-consumers/\",\"urlToImage\":\"https://cdn0.tnwcdn.com/wp-content/blogs.dir/1/files/2017/09/Samsung-Hypercube-Bestival-S8-2017_-13-social.jpg\",\"publishedAt\":\"2017-09-11T19:16:45Z\"},{\"author\":\"Matthew Hughes\",\"title\":\"Every prediction about the original iPhone sucked\",\"description\":\"Once upon a time, the iPhone was little more than a rumor.\\r\\n\\r\\nA rumor, sure, but one surrounding an all-new category of product from the then-coolest company in tech. Suffice to say, ...\",\"url\":\"https://thenextweb.com/apple/2017/09/11/every-prediction-original-iphone-sucked/\",\"urlToImage\":\"https://cdn0.tnwcdn.com/wp-content/blogs.dir/1/files/2017/09/iphone2g-social.jpg\",\"publishedAt\":\"2017-09-11T19:12:08Z\"}]}</body></html>\n"
     ]
    }
   ],
   "source": [
    "print(soup)"
   ]
  },
  {
   "cell_type": "code",
   "execution_count": null,
   "metadata": {
    "collapsed": true
   },
   "outputs": [],
   "source": []
  }
 ],
 "metadata": {
  "kernelspec": {
   "display_name": "Python 3",
   "language": "python",
   "name": "python3"
  },
  "language_info": {
   "codemirror_mode": {
    "name": "ipython",
    "version": 3
   },
   "file_extension": ".py",
   "mimetype": "text/x-python",
   "name": "python",
   "nbconvert_exporter": "python",
   "pygments_lexer": "ipython3",
   "version": "3.6.1"
  }
 },
 "nbformat": 4,
 "nbformat_minor": 2
}
